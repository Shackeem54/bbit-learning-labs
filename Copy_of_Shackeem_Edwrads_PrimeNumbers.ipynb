{
  "nbformat": 4,
  "nbformat_minor": 0,
  "metadata": {
    "colab": {
      "provenance": [],
      "authorship_tag": "ABX9TyO7CzlK4CjIg8vywqI7gXcf",
      "include_colab_link": true
    },
    "kernelspec": {
      "name": "python3",
      "display_name": "Python 3"
    },
    "language_info": {
      "name": "python"
    }
  },
  "cells": [
    {
      "cell_type": "markdown",
      "metadata": {
        "id": "view-in-github",
        "colab_type": "text"
      },
      "source": [
        "<a href=\"https://colab.research.google.com/github/Shackeem54/bbit-learning-labs/blob/main/Copy_of_Shackeem_Edwrads_PrimeNumbers.ipynb\" target=\"_parent\"><img src=\"https://colab.research.google.com/assets/colab-badge.svg\" alt=\"Open In Colab\"/></a>"
      ]
    },
    {
      "cell_type": "code",
      "execution_count": null,
      "metadata": {
        "colab": {
          "base_uri": "https://localhost:8080/"
        },
        "id": "Piq8x96h9pXQ",
        "outputId": "9896c4ce-429a-4aff-838c-0f4703c1143a"
      },
      "outputs": [
        {
          "output_type": "stream",
          "name": "stdout",
          "text": [
            "Enter a number:10\n",
            "10 is not prime\n"
          ]
        }
      ],
      "source": [
        "# task 1: Check if a number is Prime\n",
        "n = int(input(\"Enter a number:\"))\n",
        "is_prime = True\n",
        "\n",
        "# A number less than 2 is not prime\n",
        "if n < 2:\n",
        "    is_prime = False\n",
        "else:\n",
        "    for i in range(2, n):\n",
        "        if n % i == 0:\n",
        "            is_prime = False\n",
        "            break\n",
        "if is_prime:\n",
        "    print(n, \"is prime\")\n",
        "else:\n",
        "    print(n, \"is not prime\")"
      ]
    },
    {
      "cell_type": "code",
      "source": [
        "# task 2: Print all prime numbers up to n\n",
        "n = int(input(\"Enter a number:\"))\n",
        "print (\"Prime numbers up to\", n, \"are:\")\n",
        "\n",
        "for num in range(2, n + 1):\n",
        "    is_prime = True\n",
        "    for i in range(2, num):\n",
        "      if num % i == 0:\n",
        "        is_prime = False\n",
        "        break\n",
        "    if is_prime:\n",
        "        print(num, end=\" \")"
      ],
      "metadata": {
        "colab": {
          "base_uri": "https://localhost:8080/"
        },
        "id": "Frqwtbcu_Skq",
        "outputId": "a39b5adb-a83a-409d-9974-2870d558ecb3"
      },
      "execution_count": null,
      "outputs": [
        {
          "output_type": "stream",
          "name": "stdout",
          "text": [
            "Enter a number:10\n",
            "Prime numbers up to 10 are:\n",
            "2 3 5 7 "
          ]
        }
      ]
    }
  ]
}