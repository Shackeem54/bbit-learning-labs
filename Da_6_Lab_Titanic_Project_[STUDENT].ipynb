{
  "cells": [
    {
      "cell_type": "markdown",
      "metadata": {
        "id": "view-in-github",
        "colab_type": "text"
      },
      "source": [
        "<a href=\"https://colab.research.google.com/github/Shackeem54/bbit-learning-labs/blob/main/Da_6_Lab_Titanic_Project_%5BSTUDENT%5D.ipynb\" target=\"_parent\"><img src=\"https://colab.research.google.com/assets/colab-badge.svg\" alt=\"Open In Colab\"/></a>"
      ]
    },
    {
      "cell_type": "markdown",
      "metadata": {
        "id": "Ji7AqfTKLQ57"
      },
      "source": [
        "---\n",
        "# **Lab 6: Titanic Project**\n",
        "---\n",
        "\n",
        "\n",
        "Through the following questions, you will hone and apply your skills to a famous dataset containing information about passengers on the Titanic and whether they survived or not: [Titanic dataset from Kaggle](https://www.kaggle.com/competitions/titanic/overview).\n",
        "\n",
        "\n",
        "<br>\n",
        "\n",
        "**About the Dataset**\n",
        "\n",
        "There are twelve columns in the dataset. The target column is `Survived` which indicates if a passenger survived (1) or not (0). The features initially available are:\n",
        "\n",
        "* `PassengerId`: Numeric, a unique number for each passenger.\n",
        "* `Pclass`: Numeric, the ticket class.\t1 = 1st, 2 = 2nd, 3 = 3rd.\n",
        "* `Name`: Categorical, the name of the passenger.\n",
        "* `Sex`: Categorical, the sex of the passenger.\n",
        "* `Age`: Numeric, the passenger's age in years.\n",
        "* `Sibsp`: Numeric, the number of siblings / spouses aboard the Titanic.\n",
        "* `Parch`: Numeric, the number of parents / children aboard the Titanic.\n",
        "* `Ticket`: Categorical, ticket number.\n",
        "* `Fare`: Numeric, passenger fare.\n",
        "* `Cabin`: Categorical, cabin number.\n",
        "* `Embarked`: Categorical, port of embarkation.\tC = Cherbourg, Q = Queenstown, S = Southampton.\n",
        "* `Hometown`: Categorical, passenger home town.\n",
        "* `Destination`: Categorical, ultimate return point.\n",
        "* `HasCabin`: Categorical, whether the passenger(s) had a cabin or not.\n",
        "\n",
        "<br>\n",
        "\n",
        "**Resources**\n",
        "* [Python Basics Cheat Sheet](https://docs.google.com/document/d/1NcIC6so-GM5t5kd-iS7HGapWmKc8WJyAQAI00gemBms/edit?usp=drive_link)\n",
        "\n",
        "* [pandas Commands](https://docs.google.com/document/d/1pLCyzig38Mop0Iib021X47S25WBEqZCWf7LRdpC8hGw/edit?usp=drive_link)\n",
        "\n",
        "* [Data Visualizations with matplotlib](https://docs.google.com/document/d/1tCKyB_E2A-S_rwTIN6JHE9lCQiK4DLTQTt25Lc-uQcs/edit?usp=drive_link)\n",
        "\n",
        "* [Data Wrangling Cheat Sheet](https://docs.google.com/document/d/1rQaux3Ccj7x-cDdIGfd56BszSkqQpbZ3EonMFbJxfxI/edit?usp=drive_link)\n",
        "\n"
      ]
    },
    {
      "cell_type": "markdown",
      "metadata": {
        "id": "3jPLMbNivzHG"
      },
      "source": [
        "<a name=\"p1\"></a>\n",
        "\n",
        "---\n",
        "## **Week 6: Data Cleaning**\n",
        "---"
      ]
    },
    {
      "cell_type": "markdown",
      "metadata": {
        "id": "b-soLic_vu7S"
      },
      "source": [
        "#### **Problem #0**\n",
        "\n",
        "In the cell below, import the necessary libraries and functions you've used in the course so far.\n",
        "\n",
        "Using the url below, import the dataset from github.\n",
        "\n",
        "* https://raw.githubusercontent.com/the-codingschool/TRAIN-datasets/refs/heads/main/titanic/titanic_raw.csv"
      ]
    },
    {
      "cell_type": "code",
      "execution_count": null,
      "metadata": {
        "id": "x8R3iCfG0R4e"
      },
      "outputs": [],
      "source": [
        "# COMPLETE THIS CODE"
      ]
    },
    {
      "cell_type": "code",
      "source": [],
      "metadata": {
        "id": "99ynDoZmJ-RV"
      },
      "execution_count": null,
      "outputs": []
    },
    {
      "cell_type": "markdown",
      "metadata": {
        "id": "nOJ4VHUBo2m1"
      },
      "source": [
        "#### **Problem #1**\n",
        "\n",
        "Drop any duplicates from the dataset. How many duplicates were dropped?"
      ]
    },
    {
      "cell_type": "code",
      "execution_count": null,
      "metadata": {
        "id": "D5NCGXNso9Y9"
      },
      "outputs": [],
      "source": [
        "# COMPLETE THIS CODE"
      ]
    },
    {
      "cell_type": "markdown",
      "metadata": {
        "id": "c5xyfR8Y6G5b"
      },
      "source": [
        "#### **Problem #2**\n",
        "\n",
        "Determine how many missing values there are in the dataset."
      ]
    },
    {
      "cell_type": "code",
      "execution_count": null,
      "metadata": {
        "id": "7NkNRxGI6G5p"
      },
      "outputs": [],
      "source": [
        "# COMPLETE THIS CODE"
      ]
    },
    {
      "cell_type": "markdown",
      "metadata": {
        "id": "aDheMZhf6vxp"
      },
      "source": [
        "#### **Problem #3**\n",
        "\n",
        "Drop all null rows in place using `Survived` as your subset. We aren't imputing these null values because it's a supposed to model what actually happened in reality, so we don't want to replace those values and skew the results. We also don't want to introduce bias by imputing on our entire dataset and then splitting the data into train and test sets."
      ]
    },
    {
      "cell_type": "code",
      "execution_count": null,
      "metadata": {
        "id": "RPqrQ60Y6vx2"
      },
      "outputs": [],
      "source": [
        "# COMPLETE THIS CODE"
      ]
    },
    {
      "cell_type": "markdown",
      "metadata": {
        "id": "5VBb7QOaHVTk"
      },
      "source": [
        "#### **Problem #4**\n",
        "\n",
        "Drop the column `Cabin`. There majority of the values in this column are null, so we might skew our dataset using imputation."
      ]
    },
    {
      "cell_type": "code",
      "execution_count": null,
      "metadata": {
        "id": "O4wPmM067erC"
      },
      "outputs": [],
      "source": [
        "# COMPLETE THIS CODE"
      ]
    },
    {
      "cell_type": "markdown",
      "metadata": {
        "id": "eoeq-QqI8G8s"
      },
      "source": [
        "#### **Problem #5**\n",
        "\n",
        "Impute the missing values in the `Age` column using the median."
      ]
    },
    {
      "cell_type": "code",
      "execution_count": null,
      "metadata": {
        "id": "U0A21AZR8G84"
      },
      "outputs": [],
      "source": [
        "# COMPLETE THIS CODE"
      ]
    },
    {
      "cell_type": "markdown",
      "metadata": {
        "id": "NR6MXcz-84Na"
      },
      "source": [
        "#### **Problem #6**\n",
        "\n",
        "Filter the data frame to visualize the remaining null values in the dataset."
      ]
    },
    {
      "cell_type": "code",
      "execution_count": null,
      "metadata": {
        "id": "_mppJoFk84No"
      },
      "outputs": [],
      "source": [
        "# COMPLETE THIS CODE\n"
      ]
    },
    {
      "cell_type": "markdown",
      "metadata": {
        "id": "aU5pHtH09dR4"
      },
      "source": [
        "#### **Problem #7**\n",
        "\n",
        "Drop the `Boarded` column and replace the missing values in the `Embarked`, `Hometown`, and `Destination` columns with the most commonly occuring value."
      ]
    },
    {
      "cell_type": "code",
      "execution_count": null,
      "metadata": {
        "id": "Ec4vEFaZ9dR6"
      },
      "outputs": [],
      "source": [
        "# COMPLETE THIS CODE"
      ]
    },
    {
      "cell_type": "markdown",
      "metadata": {
        "id": "YahpEf1SDKgZ"
      },
      "source": [
        "#### **Problem #8**\n",
        "\n",
        "Check for any potential missing values that aren't categorized as nulls."
      ]
    },
    {
      "cell_type": "code",
      "execution_count": null,
      "metadata": {
        "id": "uynT0ZwmoCW0"
      },
      "outputs": [],
      "source": [
        "# COMPLETE THIS CODE"
      ]
    },
    {
      "cell_type": "markdown",
      "metadata": {
        "id": "eyNPxTnZfPUr"
      },
      "source": [
        "#### **Problem #9**\n",
        "\n",
        "Visualize the number of passengers who did versus did not survive using a bar graph."
      ]
    },
    {
      "cell_type": "code",
      "execution_count": null,
      "metadata": {
        "id": "qzbXzh2tfPUs"
      },
      "outputs": [],
      "source": [
        "categories = ['Not Survived', 'Survived']\n",
        "bars = # COMPLETE THIS CODE\n",
        "\n",
        "plt.# COMPLETE THIS CODE\n",
        "\n",
        "plt.ylabel(# COMPLETE THIS CODE\n",
        "plt.title(# COMPLETE THIS CODE\n",
        "\n",
        "plt.show()"
      ]
    },
    {
      "cell_type": "markdown",
      "metadata": {
        "id": "AvHyO8z5fbuJ"
      },
      "source": [
        "#### **Problem #10**\n",
        "\n",
        "Visualize the number of male versus female passengers."
      ]
    },
    {
      "cell_type": "code",
      "execution_count": null,
      "metadata": {
        "id": "R3MBRGG7fbuK"
      },
      "outputs": [],
      "source": [
        "categories = ['Male', 'Female']\n",
        "bars = # COMPLETE THIS CODE"
      ]
    },
    {
      "cell_type": "markdown",
      "metadata": {
        "id": "Ym3Ua_uhFK1A"
      },
      "source": [
        "#### **Problem #11**\n",
        "\n",
        "Encode the `Sex` and `Embarked` columns using dictionary encoding."
      ]
    },
    {
      "cell_type": "code",
      "execution_count": null,
      "metadata": {
        "id": "nGDhNWPqFK1M"
      },
      "outputs": [],
      "source": [
        "# COMPLETE THIS CODE"
      ]
    },
    {
      "cell_type": "markdown",
      "metadata": {
        "id": "7dzC09dLlEhm"
      },
      "source": [
        "---\n",
        "\n",
        "# End of Notebook\n",
        "\n",
        "© 2024 The Coding School, All rights reserved"
      ]
    }
  ],
  "metadata": {
    "colab": {
      "collapsed_sections": [
        "YahpEf1SDKgZ"
      ],
      "provenance": [],
      "include_colab_link": true
    },
    "kernelspec": {
      "display_name": "Python 3",
      "name": "python3"
    },
    "language_info": {
      "name": "python",
      "version": "3.9.6"
    }
  },
  "nbformat": 4,
  "nbformat_minor": 0
}